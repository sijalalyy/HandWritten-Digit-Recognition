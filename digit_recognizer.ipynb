{
 "cells": [
  {
   "cell_type": "markdown",
   "id": "c583d7e8",
   "metadata": {},
   "source": [
    "HAND WRITTEN DIGIT RECOGNIZING AI MNIST MODEL "
   ]
  },
  {
   "cell_type": "markdown",
   "id": "66618c33",
   "metadata": {},
   "source": [
    "LIBRARIES"
   ]
  },
  {
   "cell_type": "code",
   "execution_count": 1,
   "id": "393653fc",
   "metadata": {},
   "outputs": [],
   "source": [
    "import tensorflow as tf\n",
    "from tensorflow import keras\n",
    "import matplotlib.pyplot as plt\n",
    "import numpy as np\n",
    "import pandas as pd\n",
    "from sklearn.model_selection import train_test_split\n",
    "from keras.utils.np_utils import to_categorical"
   ]
  },
  {
   "cell_type": "markdown",
   "id": "3dba0d99",
   "metadata": {},
   "source": [
    "LOAD DATASET"
   ]
  },
  {
   "cell_type": "code",
   "execution_count": 2,
   "id": "38f4d7aa",
   "metadata": {},
   "outputs": [],
   "source": [
    "train_csv = \"C:\\\\Code2\\\\dataset\\\\train.csv\"\n",
    "test_csv = \"C:\\\\Code2\\\\dataset\\\\test.csv\"\n",
    "train_ds = pd.read_csv(train_csv)\n",
    "test_ds = pd.read_csv(test_csv)"
   ]
  },
  {
   "cell_type": "markdown",
   "id": "67a45cff",
   "metadata": {},
   "source": [
    "PROCESS DATASET"
   ]
  },
  {
   "cell_type": "code",
   "execution_count": 3,
   "id": "5e984b64",
   "metadata": {},
   "outputs": [],
   "source": [
    "y_train = train_ds['label'].astype('float32')\n",
    "x_train = train_ds.drop(['label'], axis=1).astype('int32')\n",
    "x_predict = test_ds.astype('float32')\n",
    "x_train = x_train/255\n",
    "x_predict = x_predict/255\n",
    "x_train = x_train.values.reshape(-1,28,28,1)\n",
    "x_predict = x_predict.values.reshape(-1,28,28,1)\n",
    "x_train, x_test, y_train, y_test = train_test_split(x_train, y_train, test_size = 0.2, random_state=101)\n",
    "y_train_cat = to_categorical(y_train, num_classes = 10)"
   ]
  },
  {
   "cell_type": "markdown",
   "id": "d2322948",
   "metadata": {},
   "source": [
    "VISUALIZE DATASET"
   ]
  },
  {
   "cell_type": "code",
   "execution_count": 4,
   "id": "d6dea249",
   "metadata": {},
   "outputs": [
    {
     "name": "stdout",
     "output_type": "stream",
     "text": [
      "Label examples:\n",
      "0    1\n",
      "1    0\n",
      "2    1\n",
      "3    4\n",
      "4    0\n",
      "Name: label, dtype: int64\n",
      "\n",
      "Image examples:\n"
     ]
    },
    {
     "data": {
      "image/png": "[encoded data removed]",
      "text/plain": [
       "<Figure size 640x480 with 1 Axes>"
      ]
     },
     "metadata": {},
     "output_type": "display_data"
    },
    {
     "data": {
      "image/png": "[encoded data removed]",
      "text/plain": [
       "<Figure size 640x480 with 1 Axes>"
      ]
     },
     "metadata": {},
     "output_type": "display_data"
    },
    {
     "data": {
      "image/png": "[encoded data removed]",
      "text/plain": [
       "<Figure size 640x480 with 1 Axes>"
      ]
     },
     "metadata": {},
     "output_type": "display_data"
    },
    {
     "data": {
      "image/png": "[encoded data removed]",
      "text/plain": [
       "<Figure size 640x480 with 1 Axes>"
      ]
     },
     "metadata": {},
     "output_type": "display_data"
    },
    {
     "data": {
      "image/png": "[encoded data removed]",
      "text/plain": [
       "<Figure size 640x480 with 1 Axes>"
      ]
     },
     "metadata": {},
     "output_type": "display_data"
    }
   ],
   "source": [
    "print(\"Label examples:\")\n",
    "print(train_ds['label'].head())\n",
    "print(\"\\nImage examples:\")\n",
    "for i in range(5):\n",
    "    plt.imshow(x_train[i][:,:,0])\n",
    "    plt.title(f\"Label: {y_train_cat[i].argmax()}\")\n",
    "    plt.axis('off')\n",
    "    plt.show()"
   ]
  },
  {
   "cell_type": "markdown",
   "id": "c3732c01",
   "metadata": {},
   "source": [
    "BUILD AND TRAIN MODEL"
   ]
  },
  {
   "cell_type": "code",
   "execution_count": 5,
   "id": "17c9dd81",
   "metadata": {},
   "outputs": [
    {
     "name": "stdout",
     "output_type": "stream",
     "text": [
      "Epoch 1/30\n",
      "1050/1050 [==============================] - 7s 4ms/step - loss: 0.3687 - accuracy: 0.8939\n",
      "Epoch 2/30\n",
      "1050/1050 [==============================] - 4s 3ms/step - loss: 0.1799 - accuracy: 0.9479\n",
      "Epoch 3/30\n",
      "1050/1050 [==============================] - 4s 3ms/step - loss: 0.1330 - accuracy: 0.9605\n",
      "Epoch 4/30\n",
      "1050/1050 [==============================] - 4s 3ms/step - loss: 0.1067 - accuracy: 0.9666\n",
      "Epoch 5/30\n",
      "1050/1050 [==============================] - 4s 3ms/step - loss: 0.0873 - accuracy: 0.9734\n",
      "Epoch 6/30\n",
      "1050/1050 [==============================] - 4s 3ms/step - loss: 0.0783 - accuracy: 0.9747\n",
      "Epoch 7/30\n",
      "1050/1050 [==============================] - 4s 4ms/step - loss: 0.0667 - accuracy: 0.9787\n",
      "Epoch 8/30\n",
      "1050/1050 [==============================] - 4s 4ms/step - loss: 0.0570 - accuracy: 0.9812\n",
      "Epoch 9/30\n",
      "1050/1050 [==============================] - 4s 3ms/step - loss: 0.0493 - accuracy: 0.9835\n",
      "Epoch 10/30\n",
      "1050/1050 [==============================] - 4s 4ms/step - loss: 0.0454 - accuracy: 0.9851\n",
      "Epoch 11/30\n",
      "1050/1050 [==============================] - 4s 4ms/step - loss: 0.0418 - accuracy: 0.9861\n",
      "Epoch 12/30\n",
      "1050/1050 [==============================] - 4s 4ms/step - loss: 0.0397 - accuracy: 0.9867\n",
      "Epoch 13/30\n",
      "1050/1050 [==============================] - 4s 4ms/step - loss: 0.0357 - accuracy: 0.9880\n",
      "Epoch 14/30\n",
      "1050/1050 [==============================] - 4s 4ms/step - loss: 0.0312 - accuracy: 0.9894\n",
      "Epoch 15/30\n",
      "1050/1050 [==============================] - 5s 4ms/step - loss: 0.0298 - accuracy: 0.9904\n",
      "Epoch 16/30\n",
      "1050/1050 [==============================] - 4s 4ms/step - loss: 0.0287 - accuracy: 0.9901\n",
      "Epoch 17/30\n",
      "1050/1050 [==============================] - 4s 3ms/step - loss: 0.0274 - accuracy: 0.9906\n",
      "Epoch 18/30\n",
      "1050/1050 [==============================] - 3s 3ms/step - loss: 0.0263 - accuracy: 0.9915\n",
      "Epoch 19/30\n",
      "1050/1050 [==============================] - 3s 3ms/step - loss: 0.0228 - accuracy: 0.9924\n",
      "Epoch 20/30\n",
      "1050/1050 [==============================] - 3s 3ms/step - loss: 0.0220 - accuracy: 0.9924\n",
      "Epoch 21/30\n",
      "1050/1050 [==============================] - 3s 3ms/step - loss: 0.0223 - accuracy: 0.9927\n",
      "Epoch 22/30\n",
      "1050/1050 [==============================] - 4s 3ms/step - loss: 0.0197 - accuracy: 0.9932\n",
      "Epoch 23/30\n",
      "1050/1050 [==============================] - 3s 3ms/step - loss: 0.0208 - accuracy: 0.9926\n",
      "Epoch 24/30\n",
      "1050/1050 [==============================] - 3s 3ms/step - loss: 0.0202 - accuracy: 0.9927\n",
      "Epoch 25/30\n",
      "1050/1050 [==============================] - 4s 3ms/step - loss: 0.0187 - accuracy: 0.9936\n",
      "Epoch 26/30\n",
      "1050/1050 [==============================] - 4s 4ms/step - loss: 0.0181 - accuracy: 0.9937\n",
      "Epoch 27/30\n",
      "1050/1050 [==============================] - 3s 3ms/step - loss: 0.0164 - accuracy: 0.9949\n",
      "Epoch 28/30\n",
      "1050/1050 [==============================] - 3s 3ms/step - loss: 0.0195 - accuracy: 0.9930\n",
      "Epoch 29/30\n",
      "1050/1050 [==============================] - 4s 4ms/step - loss: 0.0170 - accuracy: 0.9940\n",
      "Epoch 30/30\n",
      "1050/1050 [==============================] - 4s 3ms/step - loss: 0.0161 - accuracy: 0.9943\n"
     ]
    },
    {
     "data": {
      "text/plain": [
       "<keras.callbacks.History at 0x173d348f890>"
      ]
     },
     "execution_count": 5,
     "metadata": {},
     "output_type": "execute_result"
    }
   ],
   "source": [
    "model = tf.keras.models.Sequential([\n",
    "    tf.keras.layers.Flatten(),\n",
    "    tf.keras.layers.Dense(128, activation='relu'),\n",
    "    tf.keras.layers.Dropout(0.2),\n",
    "    tf.keras.layers.Dense(10,activation='softmax')\n",
    "])\n",
    "model.compile(optimizer='adam',\n",
    "             loss=tf.keras.losses.SparseCategoricalCrossentropy(from_logits=False),\n",
    "             metrics=['accuracy'])\n",
    "model.fit(x_train, y_train, epochs=30)"
   ]
  },
  {
   "cell_type": "markdown",
   "id": "4fb07550",
   "metadata": {},
   "source": [
    "EVALUATE MODEL"
   ]
  },
  {
   "cell_type": "code",
   "execution_count": 6,
   "id": "d76a4a65",
   "metadata": {},
   "outputs": [
    {
     "name": "stdout",
     "output_type": "stream",
     "text": [
      "\n",
      "Model evaluation:\n",
      "263/263 [==============================] - 1s 2ms/step - loss: 0.1115 - accuracy: 0.9767\n",
      "Loss: 0.1115, Accuracy: 0.9767\n"
     ]
    }
   ],
   "source": [
    "print(\"\\nModel evaluation:\")\n",
    "model_loss, model_acc = model.evaluate(x_test,  y_test)\n",
    "print(f\"Loss: {model_loss:.4f}, Accuracy: {model_acc:.4f}\")"
   ]
  },
  {
   "cell_type": "markdown",
   "id": "08eb8650",
   "metadata": {},
   "source": [
    "GENERATE PREDICTIONS"
   ]
  },
  {
   "cell_type": "code",
   "execution_count": 7,
   "id": "ceecbfa0",
   "metadata": {},
   "outputs": [
    {
     "name": "stdout",
     "output_type": "stream",
     "text": [
      "875/875 [==============================] - 2s 2ms/step\n"
     ]
    }
   ],
   "source": [
    "y_predict = model.predict(x_predict)\n",
    "y_predict = np.argmax(y_predict,axis=1)\n",
    "my_submission = pd.DataFrame({'ImageId': list(range(1, len(y_predict)+1)), 'Label': y_predict})\n",
    "my_submission.to_csv('submission.csv', index=False)"
   ]
  },
  {
   "cell_type": "markdown",
   "id": "f0e7ba04",
   "metadata": {},
   "source": [
    "VISUALIZE PREDICTIONS"
   ]
  },
  {
   "cell_type": "code",
   "execution_count": 8,
   "id": "759d44e3",
   "metadata": {},
   "outputs": [
    {
     "name": "stdout",
     "output_type": "stream",
     "text": [
      "\n",
      "Prediction examples:\n"
     ]
    },
    {
     "data": {
      "image/png": "[encoded data removed]",
      "text/plain": [
       "<Figure size 640x480 with 1 Axes>"
      ]
     },
     "metadata": {},
     "output_type": "display_data"
    },
    {
     "data": {
      "image/png": "[encoded data removed]",
      "text/plain": [
       "<Figure size 640x480 with 1 Axes>"
      ]
     },
     "metadata": {},
     "output_type": "display_data"
    },
    {
     "data": {
      "image/png": "[encoded data removed]",
      "text/plain": [
       "<Figure size 640x480 with 1 Axes>"
      ]
     },
     "metadata": {},
     "output_type": "display_data"
    }
   ],
   "source": [
    "print(\"\\nPrediction examples:\")\n",
    "y_pred_cat = to_categorical(y_predict, num_classes=10)\n",
    "indices = [300, 90, 9]\n",
    "for i in indices:\n",
    "    plt.imshow(x_predict[i][:,:,0])\n",
    "    plt.title(f\"Prediction: {y_pred_cat[i].argmax()}\")\n",
    "    plt.axis('off')\n",
    "    plt.show()"
   ]
  }
 ],
 "metadata": {
  "kernelspec": {
   "display_name": "Python 3 (ipykernel)",
   "language": "python",
   "name": "python3"
  },
  "language_info": {
   "codemirror_mode": {
    "name": "ipython",
    "version": 3
   },
   "file_extension": ".py",
   "mimetype": "text/x-python",
   "name": "python",
   "nbconvert_exporter": "python",
   "pygments_lexer": "ipython3",
   "version": "3.10.9"
  }
 },
 "nbformat": 4,
 "nbformat_minor": 5
}
